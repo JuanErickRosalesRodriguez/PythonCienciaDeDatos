{
  "nbformat": 4,
  "nbformat_minor": 0,
  "metadata": {
    "colab": {
      "name": "Tarea2_PythonCienciaDeDatos.ipynb",
      "provenance": [],
      "toc_visible": true,
      "authorship_tag": "ABX9TyO1MWDxOieOBtL1EQllQWy5",
      "include_colab_link": true
    },
    "kernelspec": {
      "name": "python3",
      "display_name": "Python 3"
    }
  },
  "cells": [
    {
      "cell_type": "markdown",
      "metadata": {
        "id": "view-in-github",
        "colab_type": "text"
      },
      "source": [
        "<a href=\"https://colab.research.google.com/github/JuanErickRosalesRodriguez/PythonCienciaDeDatos/blob/main/Tarea2_PythonCienciaDeDatos.ipynb\" target=\"_parent\"><img src=\"https://colab.research.google.com/assets/colab-badge.svg\" alt=\"Open In Colab\"/></a>"
      ]
    },
    {
      "cell_type": "markdown",
      "metadata": {
        "id": "qF6S1nsxCpU9"
      },
      "source": [
        "Universidad Galileo\r\n",
        "\r\n",
        "Instituto de investigación de Operaciones\r\n",
        "\r\n",
        "Maestria en Ciencia de Datos\r\n",
        "\r\n",
        "Python para Ciencia de Datos\r\n",
        "\r\n",
        "06170036 Juan Erick Rosales Rodríguez\r\n",
        "\r\n",
        "# Tarea2: git y control de versiones\r\n",
        "\r\n",
        "## GIT\r\n",
        "\r\n",
        "Controlar los cambios en documentos y en especial en programas donde hay gran complejidad en su contenido es un gran problema si no se hace de una manera ordenada y para este esta problematica los sistemas de control de versiones (CVS) brinda una gran solución permitiendo identificar quien y cuando realizó cierto cambio sobre un archivo tal es el caso de la herramienta GIT.\r\n",
        "\r\n",
        "### Ejemplo de uso\r\n",
        "\r\n"
      ]
    },
    {
      "cell_type": "markdown",
      "metadata": {
        "id": "dbsPumgkRw98"
      },
      "source": [
        "* Clonar un repositorio"
      ]
    },
    {
      "cell_type": "code",
      "metadata": {
        "colab": {
          "base_uri": "https://localhost:8080/",
          "height": 129
        },
        "id": "PmMaI2mcQC9q",
        "outputId": "802b1aae-bc33-4128-8475-5cf9f9032636"
      },
      "source": [
        " \r\n",
        "git clone https://github.com/JuanErickRosalesRodriguez/PythonCienciaDeDatos.git\r\n",
        "\r\n"
      ],
      "execution_count": 8,
      "outputs": [
        {
          "output_type": "error",
          "ename": "SyntaxError",
          "evalue": "ignored",
          "traceback": [
            "\u001b[0;36m  File \u001b[0;32m\"<ipython-input-8-493e615be38e>\"\u001b[0;36m, line \u001b[0;32m2\u001b[0m\n\u001b[0;31m    git clone https://github.com/JuanErickRosalesRodriguez/PythonCienciaDeDatos.git\u001b[0m\n\u001b[0m            ^\u001b[0m\n\u001b[0;31mSyntaxError\u001b[0m\u001b[0;31m:\u001b[0m invalid syntax\n"
          ]
        }
      ]
    },
    {
      "cell_type": "markdown",
      "metadata": {
        "id": "AE9Qy4oeWPxu"
      },
      "source": [
        "* Agregar cambio"
      ]
    },
    {
      "cell_type": "code",
      "metadata": {
        "id": "3I6p-XUVWTLb"
      },
      "source": [
        "git add Tarea_PythonCienciaDeDatos.ipynb"
      ],
      "execution_count": null,
      "outputs": []
    },
    {
      "cell_type": "markdown",
      "metadata": {
        "id": "M8eByp4RXPvc"
      },
      "source": [
        "* Identificar el cambio"
      ]
    },
    {
      "cell_type": "code",
      "metadata": {
        "id": "rTRw6N1CXp_b"
      },
      "source": [
        "git commit -m \"Se agrego el archivo de la tarea 2\""
      ],
      "execution_count": null,
      "outputs": []
    },
    {
      "cell_type": "markdown",
      "metadata": {
        "id": "IHvrKKYSYLlY"
      },
      "source": [
        "* Sincronizar cambio"
      ]
    },
    {
      "cell_type": "code",
      "metadata": {
        "id": "UCkWERjGYRyk"
      },
      "source": [
        "git push"
      ],
      "execution_count": null,
      "outputs": []
    }
  ]
}