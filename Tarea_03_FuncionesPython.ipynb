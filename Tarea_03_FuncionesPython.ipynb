{
  "nbformat": 4,
  "nbformat_minor": 0,
  "metadata": {
    "colab": {
      "name": "Untitled0.ipynb",
      "provenance": [],
      "authorship_tag": "ABX9TyMVaTfATKuMWwMBrv2ntz5r",
      "include_colab_link": true
    },
    "kernelspec": {
      "name": "python3",
      "display_name": "Python 3"
    }
  },
  "cells": [
    {
      "cell_type": "markdown",
      "metadata": {
        "id": "view-in-github",
        "colab_type": "text"
      },
      "source": [
        "<a href=\"https://colab.research.google.com/github/JuanErickRosalesRodriguez/PythonCienciaDeDatos/blob/main/Tarea_03_FuncionesPython.ipynb\" target=\"_parent\"><img src=\"https://colab.research.google.com/assets/colab-badge.svg\" alt=\"Open In Colab\"/></a>"
      ]
    },
    {
      "cell_type": "markdown",
      "metadata": {
        "id": "c4pEC8Fgi_bv"
      },
      "source": [
        "Universidad Galileo\r\n",
        "\r\n",
        "Instituto de investigación de Operaciones\r\n",
        "\r\n",
        "Maestria en Ciencia de Datos\r\n",
        "\r\n",
        "Python para Ciencia de Datos\r\n",
        "\r\n",
        "06170036 Juan Erick Rosales Rodríguez\r\n",
        "\r\n",
        "# Tarea3: Funciones en Python"
      ]
    },
    {
      "cell_type": "markdown",
      "metadata": {
        "id": "rS0ihGStjrw0"
      },
      "source": [
        "## Funciones en Python\r\n",
        "\r\n",
        "Para optimizar codigo en el sentido de que hay rutinas que seran repetitivas en un proyecto o uso diario, por lo tanto python como todo lenguaje de programación permite al usuario crear su propia libreria.\r\n",
        "\r\n",
        "Como ejemplo vamos realizar una rutina que nos retorne el nombre completo dado que el se tienen los apellidos y nombres segregados en Primer Apellido, Segundo Apellido, Primer Nombre y Segundo Nombre y devolverá una cadena en formato NNAAA."
      ]
    },
    {
      "cell_type": "code",
      "metadata": {
        "colab": {
          "base_uri": "https://localhost:8080/"
        },
        "id": "DquKvYQ8jwAL",
        "outputId": "14d21a76-6f46-486b-bbae-b979fe3012c8"
      },
      "source": [
        "# así se define una función:\r\n",
        "def NombreCompleto(Apellido1,Apellido2,Nombre1,Nombre2):\r\n",
        "    return Nombre1 + ' ' +  Nombre2 + ' ' +  Apellido1 + ' ' +  Apellido2 \r\n",
        "# utilización de la función asignandole el resultado a la variable v_nombrecompleto\r\n",
        "v_nombrecompleto = NombreCompleto(\"Rosales\",\"Rodríguez\",\"Juan\",\"Erick\") \r\n",
        "# imnpresión de resultado\r\n",
        "print(v_nombrecompleto)"
      ],
      "execution_count": 21,
      "outputs": [
        {
          "output_type": "stream",
          "text": [
            "Juan Erick Rosales Rodríguez\n"
          ],
          "name": "stdout"
        }
      ]
    },
    {
      "cell_type": "markdown",
      "metadata": {
        "id": "rm-t_SV7n-Nq"
      },
      "source": [
        "## Argumentos o parametros posicionales\r\n",
        "\r\n",
        "Las funciones pueden o no tener parametros o argumentos, estos son los datos u objetos que algunos casos se necesitan para realizar la tarea para la cual fue construido, para el ejemplo de la función NombreCompleto los parametros que recibe son Apellido1, Apellido2, Nombre1 y Nombre2 y cada uno de ellos son llamados posicionales siendo leidos si no son nombrados por la posición en el que fueron definidos.\r\n",
        "\r\n",
        "Modificaremos el ejemplo anterior y reordenando los parametros colocando primero los nombres y luego los apellidos sin modificar el orden en el que se calcula el nombrecompleto y envio de los datos en la utilización de la función, el resultado será que los resultados variaran a AANN.\r\n",
        "\r\n"
      ]
    },
    {
      "cell_type": "code",
      "metadata": {
        "colab": {
          "base_uri": "https://localhost:8080/"
        },
        "id": "D7yLp0vYqHP3",
        "outputId": "ed00bec3-96e5-4fbd-8765-f029521eeb0f"
      },
      "source": [
        "# así se define una función:\r\n",
        "def NombreCompleto(Nombre1,Nombre2,Apellido1,Apellido2):\r\n",
        "    return Nombre1 + ' ' +  Nombre2 + ' ' +  Apellido1 + ' ' +  Apellido2 \r\n",
        "# utilización de la función asignandole el resultado a la variable v_nombrecompleto\r\n",
        "v_nombrecompleto = NombreCompleto(\"Rosales\",\"Rodríguez\",\"Juan\",\"Erick\") \r\n",
        "# imnpresión de resultado\r\n",
        "print(v_nombrecompleto)\r\n"
      ],
      "execution_count": 9,
      "outputs": [
        {
          "output_type": "stream",
          "text": [
            "Rosales Rodríguez Juan Erick\n"
          ],
          "name": "stdout"
        }
      ]
    },
    {
      "cell_type": "markdown",
      "metadata": {
        "id": "0d-rmh6brSeo"
      },
      "source": [
        "## Argumentos o parametros nombrados\r\n",
        "\r\n",
        "Estos no representan un cambio en la definición de la función, esta caracteristica se presenta en el uso de la misma permitiendo enviar los parametros a la función en un orden distinto al definido con el requisito de colocarlo en forma de clave-valor, lo ejemplificaremos con la función NombreCompleto."
      ]
    },
    {
      "cell_type": "code",
      "metadata": {
        "colab": {
          "base_uri": "https://localhost:8080/"
        },
        "id": "upiofpJjtuMy",
        "outputId": "51cd880a-9a77-498c-f16d-c2a4fbff690a"
      },
      "source": [
        "# utilización de la función asignandole el resultado a la variable v_nombrecompleto\r\n",
        "v_nombrecompleto = NombreCompleto(Apellido2=\"Rodríguez\",Nombre2=\"Erick\",Apellido1=\"Rosales\",Nombre1=\"Juan\") \r\n",
        "# imnpresión de resultado\r\n",
        "print(v_nombrecompleto)"
      ],
      "execution_count": 10,
      "outputs": [
        {
          "output_type": "stream",
          "text": [
            "Juan Erick Rosales Rodríguez\n"
          ],
          "name": "stdout"
        }
      ]
    },
    {
      "cell_type": "markdown",
      "metadata": {
        "id": "Uz8MsRwGuZiD"
      },
      "source": [
        "## Retorno de multiples valores\r\n",
        "\r\n",
        "Hay rutinas donde necesitaremos que retornen mas de un valor por lo tanto el lenguaje prevee esta opción, para ejemplificarlo realizaremos una versión de la función que realice lo inverso, que tome el nombre completo y que lo retorne cuatro variables."
      ]
    },
    {
      "cell_type": "code",
      "metadata": {
        "colab": {
          "base_uri": "https://localhost:8080/"
        },
        "id": "L0tVJ9mvw67X",
        "outputId": "c5b656fe-4507-4c37-99c0-25542989729e"
      },
      "source": [
        "# definición particiona el nombre completo esperado en formato (NNAA)\r\n",
        "def split_NombreCompleto(p_NombreCompleto):\r\n",
        "    lista = p_NombreCompleto.split()\r\n",
        "    Nombre1 = lista[0]\r\n",
        "    Nombre2 = lista[1]\r\n",
        "    Apellido1 = lista[2]\r\n",
        "    Apellido2 = lista[3]\r\n",
        "    return Nombre1, Nombre2,Apellido1,Apellido2 \r\n",
        "# utilización de la función asignandole el resultado a la variable v_nombrecompleto\r\n",
        "l_nombrecompleto = split_NombreCompleto(\"Juan Erick Rosales Rodríguez\") \r\n",
        "# imnpresión de resultado\r\n",
        "print(l_nombrecompleto)"
      ],
      "execution_count": 13,
      "outputs": [
        {
          "output_type": "stream",
          "text": [
            "('Juan', 'Erick', 'Rosales', 'Rodríguez')\n"
          ],
          "name": "stdout"
        }
      ]
    },
    {
      "cell_type": "markdown",
      "metadata": {
        "id": "0toa_ofJybbp"
      },
      "source": [
        "## Funciones como objetos y como parametros de otras funciones\r\n",
        "\r\n",
        "En ocaciones es necesario aplicar una rutina a más de una vez llegando es decir muchisimas veces por lo que el lenguaje permite esta caracteristica siendo un gran ahorro de codigo. \r\n",
        "\r\n",
        "Ejemplificaremos con la función de que descompone el nombre completo aplicado a varios casos:"
      ]
    },
    {
      "cell_type": "code",
      "metadata": {
        "colab": {
          "base_uri": "https://localhost:8080/"
        },
        "id": "7O4xIArey963",
        "outputId": "1440dfa8-f169-40a6-850a-b706bf6cf8ad"
      },
      "source": [
        "# rutina que ejecuta varias veces una función\r\n",
        "def ejecutafuncion(func, *args):\r\n",
        "    for n in args:\r\n",
        "        print(func(n))\r\n",
        "# ejecutará la función para cuatro casos\r\n",
        "ejecutafuncion(split_NombreCompleto,\"Juan Erick Rosales Rodríguez\",\"Nathalie Juliana Rosales Herrera\",\"Juan Erick Rosales Herrera\",\"Gemma Ariana Rosales Herrera\")"
      ],
      "execution_count": 16,
      "outputs": [
        {
          "output_type": "stream",
          "text": [
            "('Juan', 'Erick', 'Rosales', 'Rodríguez')\n",
            "('Nathalie', 'Juliana', 'Rosales', 'Herrera')\n",
            "('Juan', 'Erick', 'Rosales', 'Herrera')\n",
            "('Gemma', 'Ariana', 'Rosales', 'Herrera')\n"
          ],
          "name": "stdout"
        }
      ]
    },
    {
      "cell_type": "markdown",
      "metadata": {
        "id": "jKsEZOZf1V70"
      },
      "source": [
        "## Funciones lambdas\r\n",
        "\r\n",
        "Util para expresiones que consideremos que no son necesarias crearlas con el metodo tradicional y su caso de uso es para expresiones cortas.\r\n"
      ]
    },
    {
      "cell_type": "code",
      "metadata": {
        "colab": {
          "base_uri": "https://localhost:8080/"
        },
        "id": "WXF1Se3228K9",
        "outputId": "164774fa-28da-4433-e0c9-d6def867abaa"
      },
      "source": [
        "# expresión en una sola linea\r\n",
        "lambda_NombreCompleto = lambda Nombre1,Nombre2,Apellido1,Apellido2 : Nombre1 + ' ' +  Nombre2 + ' ' +  Apellido1 + ' ' +  Apellido2 \r\n",
        "\r\n",
        "print(lambda_NombreCompleto(\"Juan\",\"Erick\",\"Rosales\",\"Rodríguez\"))"
      ],
      "execution_count": 20,
      "outputs": [
        {
          "output_type": "stream",
          "text": [
            "Juan Erick Rosales Rodríguez\n"
          ],
          "name": "stdout"
        }
      ]
    }
  ]
}